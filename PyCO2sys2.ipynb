{
  "cells": [
    {
      "cell_type": "markdown",
      "id": "16db2480-3046-4523-9e93-29eaf57a328d",
      "metadata": {
        "id": "16db2480-3046-4523-9e93-29eaf57a328d"
      },
      "source": [
        "# Introduction to Carbonate Chemistry\n",
        "\n",
        "First things first, let's install a package for carbonate chemistry calculations (pyCO2SYS) as well as load some other packages we will need.\n"
      ]
    },
    {
      "cell_type": "code",
      "source": [
        "from google.colab import drive\n",
        "drive.mount('/content/drive')"
      ],
      "metadata": {
        "id": "QLu5PWAes7Ko",
        "colab": {
          "base_uri": "https://localhost:8080/"
        },
        "outputId": "53a0cec0-3c36-4bb1-f44d-af26de003121"
      },
      "id": "QLu5PWAes7Ko",
      "execution_count": null,
      "outputs": [
        {
          "output_type": "stream",
          "name": "stdout",
          "text": [
            "Mounted at /content/drive\n"
          ]
        }
      ]
    },
    {
      "cell_type": "code",
      "source": [
        "from google.colab import drive\n",
        "drive.mount('/content/drive')\n",
        "!ls '/content/drive/MyDrive/Colab Notebooks/PaleoCAMP_Jacobel/Day 6/Modern/PyCO2sys2.ipynb' # we should see the Jupyter notebook (.ipynb) and the netCDF data file"
      ],
      "metadata": {
        "id": "Rc-OGBLFMA4F",
        "colab": {
          "base_uri": "https://localhost:8080/"
        },
        "outputId": "cae97548-f7f3-44ef-ebb8-1bb56c5f217e"
      },
      "id": "Rc-OGBLFMA4F",
      "execution_count": null,
      "outputs": [
        {
          "output_type": "stream",
          "name": "stdout",
          "text": [
            "Drive already mounted at /content/drive; to attempt to forcibly remount, call drive.mount(\"/content/drive\", force_remount=True).\n",
            "'/content/drive/MyDrive/Colab Notebooks/PaleoCAMP_Jacobel/Day 6/Modern/PyCO2sys2.ipynb'\n"
          ]
        }
      ]
    },
    {
      "cell_type": "code",
      "execution_count": null,
      "id": "95e60e83-09db-40cf-b509-d0b2bb8ec552",
      "metadata": {
        "id": "95e60e83-09db-40cf-b509-d0b2bb8ec552",
        "colab": {
          "base_uri": "https://localhost:8080/"
        },
        "outputId": "4505ef0a-8d41-4fda-f7bc-e9727d964479"
      },
      "outputs": [
        {
          "output_type": "stream",
          "name": "stdout",
          "text": [
            "Collecting PyCO2SYS\n",
            "  Downloading PyCO2SYS-1.8.2-py3-none-any.whl (107 kB)\n",
            "\u001b[?25l     \u001b[90m━━━━━━━━━━━━━━━━━━━━━━━━━━━━━━━━━━━━━━━━\u001b[0m \u001b[32m0.0/107.5 kB\u001b[0m \u001b[31m?\u001b[0m eta \u001b[36m-:--:--\u001b[0m\r\u001b[2K     \u001b[91m━━━━━━━━━━━━━━━━━━━━━━━━━━━━━━━━━━━━━\u001b[0m\u001b[90m╺\u001b[0m\u001b[90m━\u001b[0m \u001b[32m102.4/107.5 kB\u001b[0m \u001b[31m2.8 MB/s\u001b[0m eta \u001b[36m0:00:01\u001b[0m\r\u001b[2K     \u001b[90m━━━━━━━━━━━━━━━━━━━━━━━━━━━━━━━━━━━━━━━\u001b[0m \u001b[32m107.5/107.5 kB\u001b[0m \u001b[31m2.3 MB/s\u001b[0m eta \u001b[36m0:00:00\u001b[0m\n",
            "\u001b[?25hRequirement already satisfied: numpy>=1.17 in /usr/local/lib/python3.10/dist-packages (from PyCO2SYS) (1.23.5)\n",
            "Requirement already satisfied: pandas>=1 in /usr/local/lib/python3.10/dist-packages (from PyCO2SYS) (1.5.3)\n",
            "Requirement already satisfied: xarray>=0.15 in /usr/local/lib/python3.10/dist-packages (from PyCO2SYS) (2023.7.0)\n",
            "Requirement already satisfied: openpyxl>=3 in /usr/local/lib/python3.10/dist-packages (from PyCO2SYS) (3.1.2)\n",
            "Requirement already satisfied: autograd>=1.4 in /usr/local/lib/python3.10/dist-packages (from PyCO2SYS) (1.6.2)\n",
            "Requirement already satisfied: future>=0.15.2 in /usr/local/lib/python3.10/dist-packages (from autograd>=1.4->PyCO2SYS) (0.18.3)\n",
            "Requirement already satisfied: et-xmlfile in /usr/local/lib/python3.10/dist-packages (from openpyxl>=3->PyCO2SYS) (1.1.0)\n",
            "Requirement already satisfied: python-dateutil>=2.8.1 in /usr/local/lib/python3.10/dist-packages (from pandas>=1->PyCO2SYS) (2.8.2)\n",
            "Requirement already satisfied: pytz>=2020.1 in /usr/local/lib/python3.10/dist-packages (from pandas>=1->PyCO2SYS) (2023.3.post1)\n",
            "Requirement already satisfied: packaging>=21.3 in /usr/local/lib/python3.10/dist-packages (from xarray>=0.15->PyCO2SYS) (23.1)\n",
            "Requirement already satisfied: six>=1.5 in /usr/local/lib/python3.10/dist-packages (from python-dateutil>=2.8.1->pandas>=1->PyCO2SYS) (1.16.0)\n",
            "Installing collected packages: PyCO2SYS\n",
            "Successfully installed PyCO2SYS-1.8.2\n"
          ]
        }
      ],
      "source": [
        "pip install PyCO2SYS # for carbonate chemistry"
      ]
    },
    {
      "cell_type": "code",
      "execution_count": null,
      "id": "52e7b7cd-4386-4a46-ae26-10dfd6252b6b",
      "metadata": {
        "id": "52e7b7cd-4386-4a46-ae26-10dfd6252b6b"
      },
      "outputs": [],
      "source": [
        "import numpy as np                    # for math\n",
        "import pandas as pd                   # for database organization\n",
        "from scipy import stats, optimize     # for solving non-linear equations\n",
        "from matplotlib import pyplot as plt  # for making plots\n",
        "import PyCO2SYS as pyco2              # for carbonate calculations"
      ]
    },
    {
      "cell_type": "code",
      "execution_count": null,
      "id": "cf69f5d7-0461-4dae-983c-2cdcdaff2a6e",
      "metadata": {
        "id": "cf69f5d7-0461-4dae-983c-2cdcdaff2a6e",
        "colab": {
          "base_uri": "https://localhost:8080/"
        },
        "outputId": "a40ac4e0-fadd-476f-f41c-1db7a4ee8884"
      },
      "outputs": [
        {
          "output_type": "stream",
          "name": "stdout",
          "text": [
            "\n",
            "               M.P. Humphreys, A.J. Schiller, D.E. Sandborn,\n",
            "                L. Gregor, D. Pierrot, S.M.A.C. van Heuven,\n",
            "                        E.R. Lewis & D.W.R. Wallace\n",
            "\n",
            "                             ~~~ present ~~~\n",
            "\n",
            "        PyCO2SYS: marine carbonate system calculations in Python.\n",
            "               Version 1.8.2 :: doi:10.5281/zenodo.3744275\n",
            "\n",
            "\n",
            "  Py  CCCC       OOOOO        222        SSS      YY      YY      SSS\n",
            "     CC   C     OO   OO     22   22    SS   SS     YY    YY     SS   SS\n",
            "    CC         OO     OO         22    SS           YY  YY      SS\n",
            "    CC         OO     OO        22        S           YY          SSS\n",
            "    CC         OO     OO       22           SS        YY             SS\n",
            "     CC   C     OO   OO      22        SS   SS        YY        SS   SS\n",
            "      CCCC       OOOOO      2222222      SSS          YY          SSS\n",
            "\n",
            "\n",
            "   Lasciate ogni speranza, voi ch' entrate!\n",
            "                                    Dante, Inferno iii, 9\n",
            "                                    sign on the entrance gates of hell\n",
            "\n"
          ]
        }
      ],
      "source": [
        "pyco2.hello() # this just checks to make sure that the package runs + easter egg"
      ]
    },
    {
      "cell_type": "markdown",
      "id": "f5df4451-47b1-4d7b-ac42-1e9138cb9919",
      "metadata": {
        "id": "f5df4451-47b1-4d7b-ac42-1e9138cb9919"
      },
      "source": [
        "# Reminder of Carbonate Chemistry\n",
        "\n",
        "Before we use CO2SYS, let's review the underlying equations and how they can be solved. Recall from lecture the following chemical reactions describing the dissolution of CO$_2$ into water and its subsequent deprotonation:\n",
        "\n",
        ">$CO_{2 (g)} <-> CO_{2 (aq)}$  | Henry's Law\n",
        "\n",
        "> $CO_{2 (aq)} + H_2O <-> H_2CO_3$  | Carbonic acid formation\n",
        "\n",
        "> $H_2CO_3 <-> H^+ + HCO_3^-$  |  First dissociation\n",
        "\n",
        "> $HCO_3^- <-> H^+ + CO_3^{2-}$  |  Second dissociation\n",
        "\n",
        "With the simplication of grouping together true carbonic acid and aqueous CO$_2$ as $H_2CO_3^*$, the above equations yield the following equilibrium constants:\n",
        "\n",
        "> $K_H = \\frac{[H_2CO_3^*]}{pCO_2}$\n",
        "\n",
        "> $K_1 = \\frac{[H^+][HCO_3^-]}{[H_2CO_3^*]}$\n",
        "\n",
        "> $K_2 = \\frac{[H^+][CO_3^{2-}]}{[HCO_3^-]}$\n",
        "\n",
        "Recall that these equations technically refer to ion *activities* and not concentrations. For simplicity, let's assume all activity coefficients are equal to 1 such that concentration=activity.\n",
        "\n",
        "Lastly, we have the following definitions of dissolved inorganic carbon (DIC) and carbonate alkalinity (cALK):\n",
        "\n",
        "> $DIC = [H_2CO_3^*] + [HCO_3^-] + [CO_3^{2-}]$\n",
        "\n",
        "> $cALK =  [HCO_3^-] + (2 \\cdot [CO_3^{2-}]) $"
      ]
    },
    {
      "cell_type": "markdown",
      "id": "f249a7bb-4f39-4154-97fb-bdf707d7463d",
      "metadata": {
        "id": "f249a7bb-4f39-4154-97fb-bdf707d7463d"
      },
      "source": [
        "# pyCO2SYS\n",
        "The following things are needed to\n",
        "solve carbonate system problems: (1) data,  (2) a root finding algorithim for non-linear equations, (3) an ion activity model, and (4) a database of thermodynamic constants. These latter three things are conviently provided to us by the pyCO2SYS package.\n",
        "\n",
        "To use the pyCO2SYS package, the first step is to arrange the parameters of your experiment into a dictionary (see example below). These parameters include the data you have (i.e., your 2 carbonate system parameters as well as temperature and pressure) as well as your choice of which constants to use from the internal database. Importantly, pyCO2SYS assumes you are working with modern seawater, so you also should supply it with a value for salinity."
      ]
    },
    {
      "cell_type": "code",
      "execution_count": null,
      "id": "859497fe-05ef-4cf4-aded-396f2c4d18b3",
      "metadata": {
        "id": "859497fe-05ef-4cf4-aded-396f2c4d18b3"
      },
      "outputs": [],
      "source": [
        "# pyCO2SYS parameters as a dictionary\n",
        "kwargs = dict(\n",
        "    par1 = 2400,  # Value of the 1st parameter\n",
        "    par2 = 2100,  # Value of the 2nd parameter\n",
        "    par1_type = 1,  # The 1st param supplied is of type \"1\", which is \"ALK\" (uM)\n",
        "    par2_type = 2,  # The 2nd param supplied is of type \"2\", which is \"DIC\" (uM)\n",
        "    salinity = 35,  # Salinity of the sample (ppt)\n",
        "    temperature = 10,  # Temperature at input conditions (celsius)\n",
        "    pressure = 1, #water pressure @ input conditions (dbar, which is ~meters)\n",
        "    total_silicate = 50,  # Conc. of silicate  in the sample (in umol/kg)\n",
        "    total_phosphate = 2,  # Conc. of phosphate in the sample (in umol/kg)\n",
        "    opt_k_carbonic = 4,  # H2CO3 & HCO3- constants K1 & K2 (4=Mehrbach refit)\n",
        "    opt_k_bisulfate = 1,  # HSO4- constants KSO4 (1=Dickson)\n",
        ")\n",
        "#call pyCO2sys passing it the dictionary\n",
        "results = pyco2.sys(**kwargs)\n"
      ]
    },
    {
      "cell_type": "markdown",
      "id": "c0ecf2a0-b82b-4b92-936b-f78e71e7dfc9",
      "metadata": {
        "id": "c0ecf2a0-b82b-4b92-936b-f78e71e7dfc9"
      },
      "source": [
        "The direct output from pyCO2SYS is another dictionary. Let's do a bit of work to get familiar with accessing the output we want. Of all of the output, let's focus on:\n",
        "\n",
        "\n",
        "*   carbonate\n",
        "*   bicarbonate\n",
        "*   alkalinity\n",
        "*   pCO2\n",
        "*   saturation_calcite\n",
        "*   saturation_aragonite\n",
        "*   dic\n",
        "*   aqueous_CO2\n",
        "\n",
        "One way you can access these results from the dictionary is shown below\n",
        "\n"
      ]
    },
    {
      "cell_type": "code",
      "execution_count": null,
      "id": "edad511b-7e2b-4896-bf74-d473852d664a",
      "metadata": {
        "id": "edad511b-7e2b-4896-bf74-d473852d664a",
        "colab": {
          "base_uri": "https://localhost:8080/"
        },
        "outputId": "1eb9901a-1e4d-40c5-9511-b91382e13008"
      },
      "outputs": [
        {
          "output_type": "stream",
          "name": "stdout",
          "text": [
            "2100.0\n",
            "10.277532441462606\n"
          ]
        }
      ],
      "source": [
        "# Results\n",
        "print(results['dic'])\n",
        "print(results['aqueous_CO2'])"
      ]
    },
    {
      "cell_type": "markdown",
      "source": [
        "Practice using this input/output formulation by calculating the DIC speciation at a constant alkalinity with increasing pCO$_2$ (simulating modern ocean acidification)."
      ],
      "metadata": {
        "id": "srgqvlZechy4"
      },
      "id": "srgqvlZechy4"
    },
    {
      "cell_type": "code",
      "source": [
        "# pyCO2SYS for 280ppm\n",
        "kwargs = dict(\n",
        "    par1 = 2400,  # Value of the 1st param\n",
        "    par2 = 280,  # Value of the 2nd param\n",
        "    par1_type = 1,  # The 1st param supplied is of type \"1\", which is \"ALK\" (uM)\n",
        "    par2_type = 4,  # The 2nd param supplied is of type \"4\", which is \"CO2\" (uatm)\n",
        "    salinity = 35,  # Salinity of the sample (ppt)\n",
        "    temperature = 10,  # Temperature at input conditions (celsius)\n",
        "    pressure = 1, #water pressure @ input conditions (dbar, which is ~meters)\n",
        "    total_silicate = 50,  # Conc. of silicate  in the sample (in umol/kg)\n",
        "    total_phosphate = 2,  # Conc. of phosphate in the sample (in umol/kg)\n",
        "    opt_k_carbonic = 4,  # H2CO3 & HCO3- constants K1 & K2 (4=Mehrbach refit)\n",
        "    opt_k_bisulfate = 1,  # HSO4- constants KSO4 (1=Dickson)\n",
        ")\n",
        "#call CO2sys passing it the dictionary\n",
        "results = pyco2.sys(**kwargs)\n",
        "print('Preindustrial results')\n",
        "print(results['CO2'])\n",
        "print(results['HCO3'])\n",
        "print(results['CO3'])\n",
        "print(results['pH_sws'])\n",
        "\n",
        "# pyCO2SYS for 420ppm\n",
        "kwargs = dict(\n",
        "    par1 = 2400,  # Value of the 1st param\n",
        "    par2 = 420,  # Value of the 2nd param\n",
        "    par1_type = 1,  # The 1st param supplied is of type \"1\", which is \"ALK\" (uM)\n",
        "    par2_type = 4,  # The 2nd param supplied is of type \"4\", which is \"CO2\" (uatm)\n",
        "    salinity = 35,  # Salinity of the sample (ppt)\n",
        "    temperature = 10,  # Temperature at input conditions (celsius)\n",
        "    pressure = 1, #water pressure @ input conditions (dbar, which is ~meters)\n",
        "    total_silicate = 50,  # Conc. of silicate  in the sample (in umol/kg)\n",
        "    total_phosphate = 2,  # Conc. of phosphate in the sample (in umol/kg)\n",
        "    opt_k_carbonic = 4,  # H2CO3 & HCO3- constants K1 & K2 (4=Mehrbach refit)\n",
        "    opt_k_bisulfate = 1,  # HSO4- constants KSO4 (1=Dickson)\n",
        ")\n",
        "#call CO2sys passing it the dictionary\n",
        "results = pyco2.sys(**kwargs)\n",
        "print('')\n",
        "print('Modern results')\n",
        "print(results['CO2'])\n",
        "print(results['HCO3'])\n",
        "print(results['CO3'])\n",
        "print(results['pH_sws'])"
      ],
      "metadata": {
        "colab": {
          "base_uri": "https://localhost:8080/"
        },
        "id": "SiCs2iYgcwDY",
        "outputId": "9219a910-a96b-470e-ba14-e56b5e3a7184"
      },
      "id": "SiCs2iYgcwDY",
      "execution_count": null,
      "outputs": [
        {
          "output_type": "stream",
          "name": "stdout",
          "text": [
            "Preindustrial results\n",
            "12.238901934094494\n",
            "1938.1281074730052\n",
            "185.2059014725889\n",
            "8.183450532110395\n",
            "\n",
            "Modern results\n",
            "18.358352901142204\n",
            "2053.6707056273967\n",
            "138.6309561573295\n",
            "8.032507601355162\n"
          ]
        }
      ]
    },
    {
      "cell_type": "markdown",
      "source": [
        "Make sure you understand why the fraction of DIC that is in the form of (${CO_2 + H_2CO_3}$) and $HCO_3^-$ is going up while the fraction stored as $CO_3^{2-}$ is going down."
      ],
      "metadata": {
        "id": "JQJecwbEdumt"
      },
      "id": "JQJecwbEdumt"
    },
    {
      "cell_type": "markdown",
      "source": [
        "**Revelle Factor Calculation**"
      ],
      "metadata": {
        "id": "jtEWkcokQe95"
      },
      "id": "jtEWkcokQe95"
    },
    {
      "cell_type": "markdown",
      "id": "9b19cea0-64e1-4503-8e8e-33728f8ba774",
      "metadata": {
        "id": "9b19cea0-64e1-4503-8e8e-33728f8ba774"
      },
      "source": [
        "One output you might want to calculate is the Revelle Factor. This is not a direct output from pyCO2SYS, but can be calculated from the output. The Revelle factor allows for estimation of the ocean’s capacity to absorb CO$_2$. It is defined as\n",
        "\n",
        "$Revelle Factor = \\frac{(∆[CO_2]_{sw}/[CO_2]_{sw})}{(∆[DIC]/[DIC])}$\n",
        "\n",
        "\n",
        "so essentially the fractional change in DIC observed for a fractional change in pCO$_2$ dissolved in seawater (aqueous). Changes are calculated relative to the initial condition. Higher Revelle factors indicate a lower capacity for surface waters to absorb CO$_2$.\n",
        "\n",
        "\n",
        "Calculate the Revelle Factor for a 100 ppm pCO$_2$ increase from (a) preindustrial pCO$_2$ (280 ppm) and (b) 395 to 495 ppm.\n",
        "Do this either for the Sargasso Sea in the subtropical North Atlantic:\n",
        "    Assume preindustrial DIC=2060, S=36.7, T=25°C, depth=10m\n",
        "\n",
        "OR\n",
        "\n",
        "for the subarctic North Pacific:\n",
        "    Assume preindustrial DIC=1950, S=32, T=8°C, depth=10m\n",
        "\n",
        "Hint: you will need to start by calculating the alkalinity (unchanging) and then the DIC for each for these scenarios."
      ]
    },
    {
      "cell_type": "code",
      "execution_count": null,
      "id": "7bc37171-2609-4d13-aa3e-248895e42c7c",
      "metadata": {
        "id": "7bc37171-2609-4d13-aa3e-248895e42c7c",
        "colab": {
          "base_uri": "https://localhost:8080/"
        },
        "outputId": "655293fd-dfaf-45d4-edd7-8b1733192ee5"
      },
      "outputs": [
        {
          "output_type": "stream",
          "name": "stdout",
          "text": [
            "10.167085262462832\n",
            "11.18425271664697\n"
          ]
        }
      ],
      "source": [
        "#Revelle Factor code here, DIC is the type 1 parameter, pCO2 is a type 4\n",
        "#For the Sargasso Sea 280 to 380\n",
        "kwargs = dict(\n",
        "    par1 = 2060,  # Value of the 1st param\n",
        "    par2 = 280,  # Value of the 2nd param\n",
        "    par1_type = 1,  # The 1st param supplied is of type \"1\", which is \"DIC\" (uM)\n",
        "    par2_type = 4,  # The 2nd param supplied is of type \"4\", which is \"pCO2\" (uM)\n",
        "    salinity = 36.7,  # Salinity of the sample (ppt)\n",
        "    temperature = 25,  # Temperature at input conditions (celsius)\n",
        "    pressure = 10, #water pressure @ input conditions (dbar, which is ~meters)\n",
        "\n",
        ")\n",
        "#call CO2sys passing it the dictionary\n",
        "results = pyco2.sys(**kwargs)\n",
        "\n",
        "alk=results['alkalinity']\n",
        "dic_1=(results['dic'])\n",
        "aco2_1=(results['aqueous_CO2'])\n",
        "\n",
        "kwargs = dict(\n",
        "    par1 = alk,  # Value of the 1st param\n",
        "    par2 = 380,  # Value of the 2nd param (pco2 of 380)\n",
        "    par1_type = 1,  # The 1st param supplied is of type \"1\", which is \"ALK\" (uM)\n",
        "    par2_type = 4,  # The 2nd param supplied is of type \"4\", which is \"pCO2\" (uM)\n",
        "    salinity = 36.7,  # Salinity of the sample (ppt)\n",
        "    temperature = 25,  # Temperature at input conditions (celsius)\n",
        "    pressure = 10, #water pressure @ input conditions (dbar, which is ~meters)\n",
        "\n",
        ")\n",
        "results = pyco2.sys(**kwargs)\n",
        "dic_2=(results['dic'])\n",
        "aco2_2=(results['aqueous_CO2'])\n",
        "\n",
        "RF=((aco2_1-aco2_2)/aco2_1)/((dic_1-dic_2)/dic_1)\n",
        "print(RF)\n",
        "\n",
        "#For the Sargasso Sea 395 to 495\n",
        "kwargs = dict(\n",
        "    par1 = 1950,  # Value of the 1st param\n",
        "    par2 = 395,  # Value of the 2nd param\n",
        "    par1_type = 1,  # The 1st param supplied is of type \"1\", which is \"DIC\" (uM)\n",
        "    par2_type = 4,  # The 2nd param supplied is of type \"4\", which is \"pCO2\" (uM)\n",
        "    salinity = 36,  # Salinity of the sample (ppt)\n",
        "    temperature = 25,  # Temperature at input conditions (celsius)\n",
        "    pressure = 10, #water pressure @ input conditions (dbar, which is ~meters)\n",
        "\n",
        ")\n",
        "#call CO2sys passing it the dictionary\n",
        "results = pyco2.sys(**kwargs)\n",
        "\n",
        "alk=results['alkalinity']\n",
        "dic_3=(results['dic'])\n",
        "aco2_3=(results['aqueous_CO2'])\n",
        "\n",
        "kwargs = dict(\n",
        "    par1 = alk,  # Value of the 1st param\n",
        "    par2 = 496,  # Value of the 2nd param (pco2 of 495)\n",
        "    par1_type = 1,  # The 1st param supplied is of type \"1\", which is \"ALK\" (uM)\n",
        "    par2_type = 4,  # The 2nd param supplied is of type \"4\", which is \"pCO2\" (uM)\n",
        "    salinity = 36,  # Salinity of the sample (ppt)\n",
        "    temperature = 25,  # Temperature at input conditions (celsius)\n",
        "    pressure = 10, #water pressure @ input conditions (dbar, which is ~meters)\n",
        "\n",
        ")\n",
        "results = pyco2.sys(**kwargs)\n",
        "dic_4=(results['dic'])\n",
        "aco2_4=(results['aqueous_CO2'])\n",
        "\n",
        "RF=((aco2_3-aco2_4)/aco2_3)/((dic_3-dic_4)/dic_3)\n",
        "print(RF)"
      ]
    },
    {
      "cell_type": "code",
      "source": [
        "#For the Subarctic NP 280 to 380\n",
        "kwargs = dict(\n",
        "    par1 = 1950,  # Value of the 1st param\n",
        "    par2 = 280,  # Value of the 2nd param\n",
        "    par1_type = 1,  # The 1st param supplied is of type \"1\", which is \"DIC\" (uM)\n",
        "    par2_type = 4,  # The 2nd param supplied is of type \"4\", which is \"pCO2\" (uM)\n",
        "    salinity = 32,  # Salinity of the sample (ppt)\n",
        "    temperature = 8,  # Temperature at input conditions (celsius)\n",
        "    pressure = 10, #water pressure @ input conditions (dbar, which is ~meters)\n",
        "\n",
        ")\n",
        "#call CO2sys passing it the dictionary\n",
        "results = pyco2.sys(**kwargs)\n",
        "\n",
        "alk=results['alkalinity']\n",
        "dic_1=(results['dic'])\n",
        "aco2_1=(results['aqueous_CO2'])\n",
        "\n",
        "kwargs = dict(\n",
        "    par1 = alk,  # Value of the 1st param\n",
        "    par2 = 380,  # Value of the 2nd param (pco2 of 380)\n",
        "    par1_type = 1,  # The 1st param supplied is of type \"1\", which is \"ALK\" (uM)\n",
        "    par2_type = 4,  # The 2nd param supplied is of type \"4\", which is \"pCO2\" (uM)\n",
        "    salinity = 32,  # Salinity of the sample (ppt)\n",
        "    temperature = 8,  # Temperature at input conditions (celsius)\n",
        "    pressure = 10, #water pressure @ input conditions (dbar, which is ~meters)\n",
        "\n",
        ")\n",
        "results = pyco2.sys(**kwargs)\n",
        "dic_2=(results['dic'])\n",
        "aco2_2=(results['aqueous_CO2'])\n",
        "\n",
        "RF=((aco2_1-aco2_2)/aco2_1)/((dic_1-dic_2)/dic_1)\n",
        "print(RF)\n",
        "\n",
        "#For the Subarctic NP 395 to 495\n",
        "kwargs = dict(\n",
        "    par1 = 1950,  # Value of the 1st param\n",
        "    par2 = 395,  # Value of the 2nd param\n",
        "    par1_type = 1,  # The 1st param supplied is of type \"1\", which is \"DIC\" (uM)\n",
        "    par2_type = 4,  # The 2nd param supplied is of type \"4\", which is \"pCO2\" (uM)\n",
        "    salinity = 32,  # Salinity of the sample (ppt)\n",
        "    temperature = 28,  # Temperature at input conditions (celsius)\n",
        "    pressure = 10, #water pressure @ input conditions (dbar, which is ~meters)\n",
        "\n",
        ")\n",
        "#call CO2sys passing it the dictionary\n",
        "results = pyco2.sys(**kwargs)\n",
        "\n",
        "alk=results['alkalinity']\n",
        "dic_1=(results['dic'])\n",
        "aco2_1=(results['aqueous_CO2'])\n",
        "\n",
        "kwargs = dict(\n",
        "    par1 = alk,  # Value of the 1st param\n",
        "    par2 = 496,  # Value of the 2nd param (pco2 of 495)\n",
        "    par1_type = 1,  # The 1st param supplied is of type \"1\", which is \"ALK\" (uM)\n",
        "    par2_type = 4,  # The 2nd param supplied is of type \"4\", which is \"pCO2\" (uM)\n",
        "    salinity = 32,  # Salinity of the sample (ppt)\n",
        "    temperature = 8,  # Temperature at input conditions (celsius)\n",
        "    pressure = 10, #water pressure @ input conditions (dbar, which is ~meters)\n",
        "\n",
        ")\n",
        "results = pyco2.sys(**kwargs)\n",
        "dic_2=(results['dic'])\n",
        "aco2_2=(results['aqueous_CO2'])\n",
        "\n",
        "RF=((aco2_1-aco2_2)/aco2_1)/((dic_1-dic_2)/dic_1)\n",
        "print(RF)"
      ],
      "metadata": {
        "colab": {
          "base_uri": "https://localhost:8080/"
        },
        "id": "8ghKwPUzQ9NK",
        "outputId": "6352b943-3460-4900-d111-e413df8c151d"
      },
      "id": "8ghKwPUzQ9NK",
      "execution_count": null,
      "outputs": [
        {
          "output_type": "stream",
          "name": "stdout",
          "text": [
            "15.072308907688223\n",
            "13.821033802933336\n"
          ]
        }
      ]
    },
    {
      "cell_type": "markdown",
      "source": [
        "Once you have calculated your pre and post values for each of the two scenarios, and calculated the RF, compare with a group who made calculations for the other location.\n",
        "> Why does the RF change with increasing pCO$_2$?\n",
        "\n",
        "> What do your results suggest about the ocean's ability to continue to take up CO$_2$ under conditions of anthropogenic GHG forcing?\n",
        "\n",
        "> How does uptake capacity vary spatially?\n"
      ],
      "metadata": {
        "id": "M1gR0YCRQM3G"
      },
      "id": "M1gR0YCRQM3G"
    },
    {
      "cell_type": "markdown",
      "source": [
        "**Carbonate Ion Saturation State Calculation**"
      ],
      "metadata": {
        "id": "dBnpT5jTQrN0"
      },
      "id": "dBnpT5jTQrN0"
    },
    {
      "cell_type": "markdown",
      "id": "00ad1b41-46a9-40d1-9aeb-25ca52a4b8cc",
      "metadata": {
        "id": "00ad1b41-46a9-40d1-9aeb-25ca52a4b8cc"
      },
      "source": [
        "Another output that you might want is the carbonate ion concentration at saturation. This is also not a direct output from pyCO2SYS, but can be calculated from the other output.\n",
        "\n",
        "\n",
        "Recall that:\n",
        "\n",
        "$\\Omega = \\frac{[Ca]_{meas}[CO_3]_{meas}}{[Ca]_{sat}[CO_3]_{sat}}$\n",
        "\n",
        "and that the ocean is assumed to have a relatively fixed concentration of Ca ions such that it can be factored out of the equation.\n",
        "\n",
        "Use the results you have to calculate $[CO_3]_{sat}$"
      ]
    },
    {
      "cell_type": "code",
      "execution_count": null,
      "id": "52e6c01b-79be-48f7-87b4-b26268fbce93",
      "metadata": {
        "id": "52e6c01b-79be-48f7-87b4-b26268fbce93",
        "colab": {
          "base_uri": "https://localhost:8080/"
        },
        "outputId": "52948e55-823c-4fa0-e3b3-56a1152b4bbf"
      },
      "outputs": [
        {
          "output_type": "stream",
          "name": "stdout",
          "text": [
            "75.43939593454557\n",
            "1.005715723217309\n",
            "75.01065578771416\n"
          ]
        }
      ],
      "source": [
        "# Calculate CO3_sat\n",
        "kwargs = dict(\n",
        "    par1 = 2337,  # Value of the 1st param\n",
        "    par2 = 2427,  # Value of the 2nd param\n",
        "    par1_type = 2,  # The 1st param supplied is of type \"2\", which is \"DIC\" (uM)\n",
        "    par2_type = 1,  # The 2nd param supplied is of type \"1\", which is \"ALK\" (uM)\n",
        "    salinity = 34.675,  # Salinity of the sample (ppt)\n",
        "    temperature = 1.7,  # Temperature at input conditions (celsius)\n",
        "    pressure = 2899, #water pressure @ input conditions (dbar, which is ~meters)\n",
        "\n",
        ")\n",
        "#call CO2sys passing it the dictionary\n",
        "results = pyco2.sys(**kwargs)\n",
        "print(results['carbonate'])\n",
        "print(results['saturation_calcite'] )\n",
        "\n",
        "CO3sat = results['carbonate']/results['saturation_calcite']\n",
        "print(CO3sat)"
      ]
    },
    {
      "cell_type": "markdown",
      "id": "f5609caa-0ea0-47bf-b8b0-276db7299f9c",
      "metadata": {
        "id": "f5609caa-0ea0-47bf-b8b0-276db7299f9c"
      },
      "source": [
        "# pyCO2SYS with real data\n",
        "Now, let's use some real data! One convienent thing about pyCO2SYS is that it accepts arrays of values. Use `pd.read_csv` to load data from the Global Ocean Data Analysis Project (GLODAP).\n",
        "\n",
        "This uses Pandas, which is a great tool for managing data. It is like excel, but better. First, load the data with `pd.read_csv` and then view the first 5 entries with the `.head()` command. This should highlight the excel analogy as well as provide all of the column names."
      ]
    },
    {
      "cell_type": "code",
      "execution_count": null,
      "id": "74a7aea8-4935-4863-93bd-ee0ca7262a45",
      "metadata": {
        "id": "74a7aea8-4935-4863-93bd-ee0ca7262a45",
        "colab": {
          "base_uri": "https://localhost:8080/",
          "height": 206
        },
        "outputId": "690a710b-72be-4f9c-e113-311ece76601a"
      },
      "outputs": [
        {
          "output_type": "execute_result",
          "data": {
            "text/plain": [
              "   latitude  longitude  year  depth  pressure  temperature  salinity     ALK  \\\n",
              "0   -58.483      -0.99  1986    9.0       8.8       -1.282    34.147  2311.8   \n",
              "1   -58.483      -0.99  1986   20.0      20.5       -1.357    34.158  2318.5   \n",
              "2   -58.483      -0.99  1986   33.0      33.8       -1.413    34.170  2317.8   \n",
              "3   -58.483      -0.99  1986   53.0      53.6       -1.431    34.171  2316.2   \n",
              "4   -58.483      -0.99  1986   72.0      72.8       -1.477    34.185  2319.1   \n",
              "\n",
              "      DIC  silicate  phosphate  oxygen  \n",
              "0  2184.0    69.280     1.9426  345.82  \n",
              "1  2190.0    70.070     1.9426  345.38  \n",
              "2  2190.0    70.267     1.9327  345.82  \n",
              "3  2188.0    70.662     1.9426  338.40  \n",
              "4  2191.0    70.860     1.9326  344.50  "
            ],
            "text/html": [
              "\n",
              "  <div id=\"df-7065e5a2-a9d7-44ef-9a51-8369555b7e0d\">\n",
              "    <div class=\"colab-df-container\">\n",
              "      <div>\n",
              "<style scoped>\n",
              "    .dataframe tbody tr th:only-of-type {\n",
              "        vertical-align: middle;\n",
              "    }\n",
              "\n",
              "    .dataframe tbody tr th {\n",
              "        vertical-align: top;\n",
              "    }\n",
              "\n",
              "    .dataframe thead th {\n",
              "        text-align: right;\n",
              "    }\n",
              "</style>\n",
              "<table border=\"1\" class=\"dataframe\">\n",
              "  <thead>\n",
              "    <tr style=\"text-align: right;\">\n",
              "      <th></th>\n",
              "      <th>latitude</th>\n",
              "      <th>longitude</th>\n",
              "      <th>year</th>\n",
              "      <th>depth</th>\n",
              "      <th>pressure</th>\n",
              "      <th>temperature</th>\n",
              "      <th>salinity</th>\n",
              "      <th>ALK</th>\n",
              "      <th>DIC</th>\n",
              "      <th>silicate</th>\n",
              "      <th>phosphate</th>\n",
              "      <th>oxygen</th>\n",
              "    </tr>\n",
              "  </thead>\n",
              "  <tbody>\n",
              "    <tr>\n",
              "      <th>0</th>\n",
              "      <td>-58.483</td>\n",
              "      <td>-0.99</td>\n",
              "      <td>1986</td>\n",
              "      <td>9.0</td>\n",
              "      <td>8.8</td>\n",
              "      <td>-1.282</td>\n",
              "      <td>34.147</td>\n",
              "      <td>2311.8</td>\n",
              "      <td>2184.0</td>\n",
              "      <td>69.280</td>\n",
              "      <td>1.9426</td>\n",
              "      <td>345.82</td>\n",
              "    </tr>\n",
              "    <tr>\n",
              "      <th>1</th>\n",
              "      <td>-58.483</td>\n",
              "      <td>-0.99</td>\n",
              "      <td>1986</td>\n",
              "      <td>20.0</td>\n",
              "      <td>20.5</td>\n",
              "      <td>-1.357</td>\n",
              "      <td>34.158</td>\n",
              "      <td>2318.5</td>\n",
              "      <td>2190.0</td>\n",
              "      <td>70.070</td>\n",
              "      <td>1.9426</td>\n",
              "      <td>345.38</td>\n",
              "    </tr>\n",
              "    <tr>\n",
              "      <th>2</th>\n",
              "      <td>-58.483</td>\n",
              "      <td>-0.99</td>\n",
              "      <td>1986</td>\n",
              "      <td>33.0</td>\n",
              "      <td>33.8</td>\n",
              "      <td>-1.413</td>\n",
              "      <td>34.170</td>\n",
              "      <td>2317.8</td>\n",
              "      <td>2190.0</td>\n",
              "      <td>70.267</td>\n",
              "      <td>1.9327</td>\n",
              "      <td>345.82</td>\n",
              "    </tr>\n",
              "    <tr>\n",
              "      <th>3</th>\n",
              "      <td>-58.483</td>\n",
              "      <td>-0.99</td>\n",
              "      <td>1986</td>\n",
              "      <td>53.0</td>\n",
              "      <td>53.6</td>\n",
              "      <td>-1.431</td>\n",
              "      <td>34.171</td>\n",
              "      <td>2316.2</td>\n",
              "      <td>2188.0</td>\n",
              "      <td>70.662</td>\n",
              "      <td>1.9426</td>\n",
              "      <td>338.40</td>\n",
              "    </tr>\n",
              "    <tr>\n",
              "      <th>4</th>\n",
              "      <td>-58.483</td>\n",
              "      <td>-0.99</td>\n",
              "      <td>1986</td>\n",
              "      <td>72.0</td>\n",
              "      <td>72.8</td>\n",
              "      <td>-1.477</td>\n",
              "      <td>34.185</td>\n",
              "      <td>2319.1</td>\n",
              "      <td>2191.0</td>\n",
              "      <td>70.860</td>\n",
              "      <td>1.9326</td>\n",
              "      <td>344.50</td>\n",
              "    </tr>\n",
              "  </tbody>\n",
              "</table>\n",
              "</div>\n",
              "      <button class=\"colab-df-convert\" onclick=\"convertToInteractive('df-7065e5a2-a9d7-44ef-9a51-8369555b7e0d')\"\n",
              "              title=\"Convert this dataframe to an interactive table.\"\n",
              "              style=\"display:none;\">\n",
              "        \n",
              "  <svg xmlns=\"http://www.w3.org/2000/svg\" height=\"24px\"viewBox=\"0 0 24 24\"\n",
              "       width=\"24px\">\n",
              "    <path d=\"M0 0h24v24H0V0z\" fill=\"none\"/>\n",
              "    <path d=\"M18.56 5.44l.94 2.06.94-2.06 2.06-.94-2.06-.94-.94-2.06-.94 2.06-2.06.94zm-11 1L8.5 8.5l.94-2.06 2.06-.94-2.06-.94L8.5 2.5l-.94 2.06-2.06.94zm10 10l.94 2.06.94-2.06 2.06-.94-2.06-.94-.94-2.06-.94 2.06-2.06.94z\"/><path d=\"M17.41 7.96l-1.37-1.37c-.4-.4-.92-.59-1.43-.59-.52 0-1.04.2-1.43.59L10.3 9.45l-7.72 7.72c-.78.78-.78 2.05 0 2.83L4 21.41c.39.39.9.59 1.41.59.51 0 1.02-.2 1.41-.59l7.78-7.78 2.81-2.81c.8-.78.8-2.07 0-2.86zM5.41 20L4 18.59l7.72-7.72 1.47 1.35L5.41 20z\"/>\n",
              "  </svg>\n",
              "      </button>\n",
              "      \n",
              "  <style>\n",
              "    .colab-df-container {\n",
              "      display:flex;\n",
              "      flex-wrap:wrap;\n",
              "      gap: 12px;\n",
              "    }\n",
              "\n",
              "    .colab-df-convert {\n",
              "      background-color: #E8F0FE;\n",
              "      border: none;\n",
              "      border-radius: 50%;\n",
              "      cursor: pointer;\n",
              "      display: none;\n",
              "      fill: #1967D2;\n",
              "      height: 32px;\n",
              "      padding: 0 0 0 0;\n",
              "      width: 32px;\n",
              "    }\n",
              "\n",
              "    .colab-df-convert:hover {\n",
              "      background-color: #E2EBFA;\n",
              "      box-shadow: 0px 1px 2px rgba(60, 64, 67, 0.3), 0px 1px 3px 1px rgba(60, 64, 67, 0.15);\n",
              "      fill: #174EA6;\n",
              "    }\n",
              "\n",
              "    [theme=dark] .colab-df-convert {\n",
              "      background-color: #3B4455;\n",
              "      fill: #D2E3FC;\n",
              "    }\n",
              "\n",
              "    [theme=dark] .colab-df-convert:hover {\n",
              "      background-color: #434B5C;\n",
              "      box-shadow: 0px 1px 3px 1px rgba(0, 0, 0, 0.15);\n",
              "      filter: drop-shadow(0px 1px 2px rgba(0, 0, 0, 0.3));\n",
              "      fill: #FFFFFF;\n",
              "    }\n",
              "  </style>\n",
              "\n",
              "      <script>\n",
              "        const buttonEl =\n",
              "          document.querySelector('#df-7065e5a2-a9d7-44ef-9a51-8369555b7e0d button.colab-df-convert');\n",
              "        buttonEl.style.display =\n",
              "          google.colab.kernel.accessAllowed ? 'block' : 'none';\n",
              "\n",
              "        async function convertToInteractive(key) {\n",
              "          const element = document.querySelector('#df-7065e5a2-a9d7-44ef-9a51-8369555b7e0d');\n",
              "          const dataTable =\n",
              "            await google.colab.kernel.invokeFunction('convertToInteractive',\n",
              "                                                     [key], {});\n",
              "          if (!dataTable) return;\n",
              "\n",
              "          const docLinkHtml = 'Like what you see? Visit the ' +\n",
              "            '<a target=\"_blank\" href=https://colab.research.google.com/notebooks/data_table.ipynb>data table notebook</a>'\n",
              "            + ' to learn more about interactive tables.';\n",
              "          element.innerHTML = '';\n",
              "          dataTable['output_type'] = 'display_data';\n",
              "          await google.colab.output.renderOutput(dataTable, element);\n",
              "          const docLink = document.createElement('div');\n",
              "          docLink.innerHTML = docLinkHtml;\n",
              "          element.appendChild(docLink);\n",
              "        }\n",
              "      </script>\n",
              "    </div>\n",
              "  </div>\n",
              "  "
            ]
          },
          "metadata": {},
          "execution_count": 9
        }
      ],
      "source": [
        "#Change the file path below to match your colab structure\n",
        "glodap = pd.read_csv('/content/drive/MyDrive/paleoCAMPTutorials/CarbonateChemistry/glodapData.csv') #load glodapData using Pandas\n",
        "glodap.head() #print first 5 rows"
      ]
    },
    {
      "cell_type": "markdown",
      "id": "0e603712-3e0a-4d06-a161-8b556141aebe",
      "metadata": {
        "id": "0e603712-3e0a-4d06-a161-8b556141aebe"
      },
      "source": [
        "You can access data in Pandas using the column names. You can also easily find subsets of the data"
      ]
    },
    {
      "cell_type": "code",
      "execution_count": null,
      "id": "7aaed124-a4aa-4c98-80de-9dcbb0fdece1",
      "metadata": {
        "id": "7aaed124-a4aa-4c98-80de-9dcbb0fdece1",
        "outputId": "3a794609-b470-4341-e2df-e96889022e5b",
        "colab": {
          "base_uri": "https://localhost:8080/",
          "height": 242
        }
      },
      "outputs": [
        {
          "output_type": "error",
          "ename": "NameError",
          "evalue": "ignored",
          "traceback": [
            "\u001b[0;31m---------------------------------------------------------------------------\u001b[0m",
            "\u001b[0;31mNameError\u001b[0m                                 Traceback (most recent call last)",
            "\u001b[0;32m<ipython-input-1-e1575eeaadda>\u001b[0m in \u001b[0;36m<cell line: 2>\u001b[0;34m()\u001b[0m\n\u001b[1;32m      1\u001b[0m \u001b[0;31m## How to access data in the database:\u001b[0m\u001b[0;34m\u001b[0m\u001b[0;34m\u001b[0m\u001b[0m\n\u001b[0;32m----> 2\u001b[0;31m \u001b[0mAlkalinityData\u001b[0m \u001b[0;34m=\u001b[0m \u001b[0mglodap\u001b[0m\u001b[0;34m.\u001b[0m\u001b[0mALK\u001b[0m \u001b[0;31m# this is all of the alkalinity data\u001b[0m\u001b[0;34m\u001b[0m\u001b[0;34m\u001b[0m\u001b[0m\n\u001b[0m\u001b[1;32m      3\u001b[0m \u001b[0;31m## How to subset data:\u001b[0m\u001b[0;34m\u001b[0m\u001b[0;34m\u001b[0m\u001b[0m\n\u001b[1;32m      4\u001b[0m \u001b[0mAlkalinityData31\u001b[0m \u001b[0;34m=\u001b[0m \u001b[0mglodap\u001b[0m\u001b[0;34m.\u001b[0m\u001b[0mALK\u001b[0m\u001b[0;34m[\u001b[0m\u001b[0mglodap\u001b[0m\u001b[0;34m.\u001b[0m\u001b[0msalinity\u001b[0m\u001b[0;34m>\u001b[0m\u001b[0;36m31\u001b[0m\u001b[0;34m]\u001b[0m\u001b[0;34m\u001b[0m\u001b[0;34m\u001b[0m\u001b[0m\n\u001b[1;32m      5\u001b[0m \u001b[0;31m# ^this gives you the Alkalinity data points where salinity is greater than 31\u001b[0m\u001b[0;34m\u001b[0m\u001b[0;34m\u001b[0m\u001b[0m\n",
            "\u001b[0;31mNameError\u001b[0m: name 'glodap' is not defined"
          ]
        }
      ],
      "source": [
        "## How to access data in the database:\n",
        "AlkalinityData = glodap.ALK # this is all of the alkalinity data\n",
        "## How to subset data:\n",
        "AlkalinityData31 = glodap.ALK[glodap.salinity>31]\n",
        "# ^this gives you the Alkalinity data points where salinity is greater than 31\n",
        "\n",
        "print(size(glodap))"
      ]
    },
    {
      "cell_type": "markdown",
      "id": "87fb0133-5a0e-42ae-beda-cc4a68fcdb6b",
      "metadata": {
        "id": "87fb0133-5a0e-42ae-beda-cc4a68fcdb6b"
      },
      "source": [
        "Pass the first 25 data points to pyCO2SYS and plot the calculated calcite and aragonate saturation states versus depth. Recall that the Ksp for aragonite and carbonate are different. Describe the profile and diagnose why it looks the way that it does. Without plotting the legend can you tell which line corresponds to which saturation profile?"
      ]
    },
    {
      "cell_type": "code",
      "execution_count": null,
      "id": "810b56a9-be3a-4d33-bcd6-e8d517f32643",
      "metadata": {
        "id": "810b56a9-be3a-4d33-bcd6-e8d517f32643",
        "colab": {
          "base_uri": "https://localhost:8080/",
          "height": 490
        },
        "outputId": "2b52154a-f34d-453f-fb3d-b291ecbec281"
      },
      "outputs": [
        {
          "output_type": "execute_result",
          "data": {
            "text/plain": [
              "Text(0.5, 1.0, 'Saturation State With Depth')"
            ]
          },
          "metadata": {},
          "execution_count": 10
        },
        {
          "output_type": "display_data",
          "data": {
            "text/plain": [
              "<Figure size 640x480 with 1 Axes>"
            ],
            "image/png": "[encoded data removed]"
          },
          "metadata": {}
        }
      ],
      "source": [
        "# use CO2SYS to solve, but only pass the first 25 data points\n",
        "# space for your calculation\n",
        "# hint, reverse the yaxis direction with ax.invert_yaxis()\n",
        "\n",
        "Glodap_First25=glodap.iloc[:25]\n",
        "\n",
        "\n",
        "kwargs = dict(\n",
        "    par1 = Glodap_First25.ALK,  # Value of the 1st param\n",
        "    par2 = Glodap_First25.DIC,  # Value of the 2nd param\n",
        "    par1_type = 1,  # The 1st param supplied is of type \"1\", which is \"ALK\" (uM)\n",
        "    par2_type = 2,  # The 2nd param supplied is of type \"2\", which is \"DIC\" (uM)\n",
        "    salinity = Glodap_First25.salinity,  # Salinity of the sample (ppt)\n",
        "    temperature = Glodap_First25.temperature,  # Temperature at input conditions (celsius)\n",
        "    pressure = Glodap_First25.depth, #water pressure @ input conditions (dbar, which is ~meters)\n",
        "\n",
        ")\n",
        "results = pyco2.sys(**kwargs)\n",
        "\n",
        "\n",
        "plt.gca().invert_yaxis()\n",
        "plt.scatter(results['saturation_calcite'],Glodap_First25.depth)\n",
        "\n",
        "plt.scatter(results['saturation_aragonite'],Glodap_First25.depth)\n",
        "plt.xlabel(\"Omega\")\n",
        "plt.ylabel(\"Depth\")\n",
        "plt.title(\"Saturation State With Depth\")\n",
        "\n",
        "\n",
        "#plt.legend(['Calcite','Aragonite'])\n",
        "\n"
      ]
    },
    {
      "cell_type": "markdown",
      "source": [
        "Saturation states generally have similar profiles, with higher values at the surface and lower values at depth. However, relative values can be significantly different as a function of where in the global ocean you look. Contrast the calcite saturation profiles given in the plots below. Why do the data from the North Pacific look so different from the North Atlantic?"
      ],
      "metadata": {
        "id": "6cZkxwUJE636"
      },
      "id": "6cZkxwUJE636"
    },
    {
      "cell_type": "code",
      "source": [
        "NPacData = glodap[(glodap.latitude>30)& (glodap.latitude<50)& (glodap.longitude>-180) & (glodap.longitude<-130)] #is there not some and statement here to be used?\n",
        "\n",
        "\n",
        "kwargs = dict(\n",
        "    par1 = NPacData.ALK,  # Value of the 1st param\n",
        "    par2 = NPacData.DIC,  # Value of the 2nd param\n",
        "    par1_type = 1,  # The 1st param supplied is of type \"1\", which is \"ALK\" (uM)\n",
        "    par2_type = 2,  # The 2nd param supplied is of type \"2\", which is \"DIC\" (uM)\n",
        "    salinity = NPacData.salinity,  # Salinity of the sample (ppt)\n",
        "    temperature = NPacData.temperature,  # Temperature at input conditions (celsius)\n",
        "    pressure = NPacData.depth, #water pressure @ input conditions (dbar, which is ~meters)\n",
        ")\n",
        "results = pyco2.sys(**kwargs)\n",
        "\n",
        "plt.gca().invert_yaxis()\n",
        "plt.scatter(results['saturation_calcite'],NPacData.depth)\n",
        "#-------------\n",
        "\n",
        "NAtlData = glodap[(glodap.latitude>45)&(glodap.latitude<60)&(glodap.longitude>-40)&(glodap.longitude<-17)]\n",
        "\n",
        "\n",
        "kwargs = dict(\n",
        "    par1 = NAtlData.ALK,  # Value of the 1st param\n",
        "    par2 = NAtlData.DIC,  # Value of the 2nd param\n",
        "    par1_type = 1,  # The 1st param supplied is of type \"1\", which is \"ALK\" (uM)\n",
        "    par2_type = 2,  # The 2nd param supplied is of type \"2\", which is \"DIC\" (uM)\n",
        "    salinity = NAtlData.salinity,  # Salinity of the sample (ppt)\n",
        "    temperature = NAtlData.temperature,  # Temperature at input conditions (celsius)\n",
        "    pressure = NAtlData.depth, #water pressure @ input conditions (dbar, which is ~meters)\n",
        "\n",
        ")\n",
        "results = pyco2.sys(**kwargs)\n",
        "\n",
        "\n",
        "plt.scatter(results['saturation_calcite'],NAtlData.depth)\n",
        "\n",
        "plt.xlabel(\"Omega\")\n",
        "plt.ylabel(\"Depth\")\n",
        "plt.title(\"Saturation State With Depth\")\n",
        "plt.legend(['North Pacific','North Altantic'])\n",
        "plt.show()\n"
      ],
      "metadata": {
        "colab": {
          "base_uri": "https://localhost:8080/",
          "height": 472
        },
        "id": "KZXS5cdJGiop",
        "outputId": "c8d79794-f9b5-4f44-b840-45f393c9a7fe"
      },
      "id": "KZXS5cdJGiop",
      "execution_count": null,
      "outputs": [
        {
          "output_type": "display_data",
          "data": {
            "text/plain": [
              "<Figure size 640x480 with 1 Axes>"
            ],
            "image/png": "[encoded data removed]"
          },
          "metadata": {}
        }
      ]
    },
    {
      "cell_type": "markdown",
      "id": "829ad67c-5124-4192-a154-1914e4be41a0",
      "metadata": {
        "id": "829ad67c-5124-4192-a154-1914e4be41a0"
      },
      "source": [
        "Now, using Pandas, pass only the glodap data from the deep Pacific Ocean (depth > 1500 m). Plot the relationship between the carbonate ion concentration and dissolved oxygen. Explain why you see the relationship you do.\n"
      ]
    },
    {
      "cell_type": "code",
      "execution_count": null,
      "id": "57ceb763-6209-406b-8ddf-e1690c988e85",
      "metadata": {
        "id": "57ceb763-6209-406b-8ddf-e1690c988e85",
        "colab": {
          "base_uri": "https://localhost:8080/",
          "height": 472
        },
        "outputId": "9e76a08f-fc58-4223-cbca-bda8a743364a"
      },
      "outputs": [
        {
          "output_type": "display_data",
          "data": {
            "text/plain": [
              "<Figure size 640x480 with 1 Axes>"
            ],
            "image/png": "[encoded data removed]"
          },
          "metadata": {}
        }
      ],
      "source": [
        "# Space For Calculations\n",
        "\n",
        "DepthData1500 = NPacData[(NPacData.depth>1500)]\n",
        "\n",
        "\n",
        "kwargs = dict(\n",
        "    par1 = DepthData1500.ALK,  # Value of the 1st param\n",
        "    par2 = DepthData1500.DIC,  # Value of the 2nd param\n",
        "    par1_type = 1,  # The 1st param supplied is of type \"1\", which is \"ALK\" (uM)\n",
        "    par2_type = 2,  # The 2nd param supplied is of type \"2\", which is \"DIC\" (uM)\n",
        "    salinity = DepthData1500.salinity,  # Salinity of the sample (ppt)\n",
        "    temperature = DepthData1500.temperature,  # Temperature at input conditions (celsius)\n",
        "    pressure = DepthData1500.depth, #water pressure @ input conditions (dbar, which is ~meters)\n",
        "\n",
        ")\n",
        "results = pyco2.sys(**kwargs)\n",
        "\n",
        "plt.scatter(results['carbonate'],[DepthData1500.oxygen])\n",
        "\n",
        "plt.xlabel(\"Carbonate Ion Concentration\")\n",
        "plt.ylabel(\"Oxygen Concentration\")\n",
        "plt.title(\"Carbonate System Below 1500m\")\n",
        "plt.show()\n"
      ]
    },
    {
      "cell_type": "markdown",
      "source": [
        "*Colab by Mark Torres and Allison Jacobel*"
      ],
      "metadata": {
        "id": "u7imtO9OrlfI"
      },
      "id": "u7imtO9OrlfI"
    }
  ],
  "metadata": {
    "kernelspec": {
      "display_name": "Python 3",
      "language": "python",
      "name": "python3"
    },
    "language_info": {
      "codemirror_mode": {
        "name": "ipython",
        "version": 3
      },
      "file_extension": ".py",
      "mimetype": "text/x-python",
      "name": "python",
      "nbconvert_exporter": "python",
      "pygments_lexer": "ipython3",
      "version": "3.8.8"
    },
    "colab": {
      "provenance": []
    }
  },
  "nbformat": 4,
  "nbformat_minor": 5
}